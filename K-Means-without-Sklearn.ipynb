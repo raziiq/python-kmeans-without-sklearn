{
 "cells": [
  {
   "cell_type": "code",
   "execution_count": 1,
   "metadata": {},
   "outputs": [],
   "source": [
    "# import required libraries\n",
    "import numpy as np\n",
    "import matplotlib.pyplot as plt\n",
    "import pandas as pd\n",
    "import seaborn as sns"
   ]
  },
  {
   "cell_type": "code",
   "execution_count": 2,
   "metadata": {},
   "outputs": [],
   "source": [
    "Data = {'x': [25,34,22,27,33,33,31,22,35,34,67,54,57,43,50,57,59,52,65,47,49,48,35,33,44,45,38,43,51,46],\n",
    "        'y': [79,51,53,78,59,74,73,57,69,75,51,32,40,47,53,36,35,58,59,50,25,20,14,12,20,5,29,27,8,7]\n",
    "       }"
   ]
  },
  {
   "cell_type": "code",
   "execution_count": 3,
   "metadata": {},
   "outputs": [],
   "source": [
    "X = Data['x']\n",
    "Y = Data['y']"
   ]
  },
  {
   "cell_type": "code",
   "execution_count": 4,
   "metadata": {},
   "outputs": [
    {
     "data": {
      "text/plain": [
       "Text(0, 0.5, 'y')"
      ]
     },
     "execution_count": 4,
     "metadata": {},
     "output_type": "execute_result"
    },
    {
     "data": {
      "image/png": "[encoded data removed]",
      "text/plain": [
       "<Figure size 576x576 with 1 Axes>"
      ]
     },
     "metadata": {
      "needs_background": "light"
     },
     "output_type": "display_data"
    }
   ],
   "source": [
    "plt.figure(figsize=(8, 8))\n",
    "plt.scatter(X, Y)\n",
    "plt.xlabel(\"X\")\n",
    "plt.ylabel(\"y\")"
   ]
  },
  {
   "cell_type": "code",
   "execution_count": 5,
   "metadata": {},
   "outputs": [],
   "source": [
    "# chose 3 random points to be centroids\n",
    "import random\n",
    "def random_centroids(number_of_centroids, training_set_size):\n",
    "    x_point = []\n",
    "    y_point = []\n",
    "\n",
    "    for i in range(number_of_centroids):\n",
    "        j = random.randint(1, training_set_size-1)\n",
    "\n",
    "        x_point.append(X[j])\n",
    "        y_point.append(Y[j])\n",
    "\n",
    "    \n",
    "    centroids = {\"x\": x_point, \"y\":y_point}\n",
    "    return centroids"
   ]
  },
  {
   "cell_type": "code",
   "execution_count": 6,
   "metadata": {},
   "outputs": [
    {
     "name": "stdout",
     "output_type": "stream",
     "text": [
      "{'x': [48, 33, 57], 'y': [20, 74, 40]}\n"
     ]
    }
   ],
   "source": [
    "# 3 random centroids are not stored in a Dictionary object\n",
    "number_of_centroids = 3\n",
    "centroids = random_centroids(number_of_centroids, len(X))\n",
    "\n",
    "print(centroids)"
   ]
  },
  {
   "cell_type": "code",
   "execution_count": 7,
   "metadata": {},
   "outputs": [
    {
     "data": {
      "text/plain": [
       "Text(0, 0.5, 'y')"
      ]
     },
     "execution_count": 7,
     "metadata": {},
     "output_type": "execute_result"
    },
    {
     "data": {
      "image/png": "[encoded data removed]",
      "text/plain": [
       "<Figure size 576x576 with 1 Axes>"
      ]
     },
     "metadata": {
      "needs_background": "light"
     },
     "output_type": "display_data"
    }
   ],
   "source": [
    "# Lets plot the centroids along with other points\n",
    "plt.figure(figsize=(8, 8))\n",
    "plt.scatter(X, Y)\n",
    "plt.scatter(centroids[\"x\"], centroids[\"y\"], color='red')\n",
    "plt.xlabel(\"X\")\n",
    "plt.ylabel(\"y\")"
   ]
  },
  {
   "cell_type": "code",
   "execution_count": 8,
   "metadata": {},
   "outputs": [],
   "source": [
    "# Next step would be to find the distance of each point from each centroid\n",
    "import math\n",
    "def eucledian_distance(x1, y1, x2, y2):\n",
    "     return math.sqrt(((x1-x2)**2) + ((y1-y2)**2))"
   ]
  },
  {
   "cell_type": "code",
   "execution_count": 9,
   "metadata": {},
   "outputs": [],
   "source": [
    "# This function will calculate the distance of each point from each centroid\n",
    "def calculate_distance_from_centroids(centroid, point_x, point_y):\n",
    "    \n",
    "    distances = []\n",
    "    centroid_distances = {}\n",
    "    for i in range(len(centroid[\"x\"])):\n",
    "        for j in range(len(X)):\n",
    "\n",
    "            distances.append(eucledian_distance(centroid[\"x\"][i], centroid[\"y\"][i], point_x[j], point_y[j]))\n",
    "                        \n",
    "        centroid_distances[i] = distances\n",
    "        distances = []\n",
    "    return centroid_distances"
   ]
  },
  {
   "cell_type": "code",
   "execution_count": 10,
   "metadata": {},
   "outputs": [],
   "source": [
    "# This function takes the mean distance of each cluster's points\n",
    "def mean_distance_cluster(df, x, y):\n",
    "    return df.groupby(\"cluster\").mean()[[\"x\", \"y\"]]"
   ]
  },
  {
   "cell_type": "code",
   "execution_count": 11,
   "metadata": {},
   "outputs": [],
   "source": [
    "# This is the main kmeans function\n",
    "def kmeans(centroids, x, y):\n",
    "    diff = 1\n",
    "    i = 0\n",
    "    while (diff!=0):\n",
    "        centroid_distances = calculate_distance_from_centroids(centroids, x, y)\n",
    "        df = pd.DataFrame()\n",
    "        df.iloc[0:0]\n",
    "        df = pd.DataFrame(calculate_distance_from_centroids(centroids, X, y))\n",
    "        \n",
    "        df['cluster'] = df.idxmin(axis=1)\n",
    "        df[\"x\"] = x\n",
    "        df[\"y\"] = y\n",
    "        \n",
    "        new_centroids = mean_distance_cluster(df, x, y)\n",
    "        \n",
    "        diff = (new_centroids[\"x\"] - centroids[\"x\"]).sum() + (new_centroids[\"y\"] - centroids[\"y\"]).sum()\n",
    "        print(diff)\n",
    "        centroids = new_centroids\n",
    "     \n",
    "        i+=1\n",
    "        \n",
    "    return df"
   ]
  },
  {
   "cell_type": "code",
   "execution_count": 12,
   "metadata": {},
   "outputs": [
    {
     "name": "stdout",
     "output_type": "stream",
     "text": [
      "-14.499999999999996\n",
      "0.0\n"
     ]
    },
    {
     "data": {
      "text/plain": [
       "<matplotlib.axes._subplots.AxesSubplot at 0x1f35180a148>"
      ]
     },
     "execution_count": 12,
     "metadata": {},
     "output_type": "execute_result"
    },
    {
     "data": {
      "image/png": "[encoded data removed]",
      "text/plain": [
       "<Figure size 576x576 with 1 Axes>"
      ]
     },
     "metadata": {
      "needs_background": "light"
     },
     "output_type": "display_data"
    }
   ],
   "source": [
    "# This is for plotting the final clustering\n",
    "df_new = kmeans(centroids, X, Y)\n",
    "plt.figure(figsize=(8, 8))\n",
    "sns.scatterplot(df_new['x'], df_new['y'], hue=df_new['cluster'], palette=[\"blue\", \"green\", \"orange\"], s=70)"
   ]
  },
  {
   "cell_type": "code",
   "execution_count": 13,
   "metadata": {},
   "outputs": [
    {
     "name": "stdout",
     "output_type": "stream",
     "text": [
      "[[43.2 16.7]\n",
      " [29.6 66.8]\n",
      " [55.1 46.1]]\n"
     ]
    },
    {
     "data": {
      "text/plain": [
       "<matplotlib.axes._subplots.AxesSubplot at 0x1f3522602c8>"
      ]
     },
     "execution_count": 13,
     "metadata": {},
     "output_type": "execute_result"
    },
    {
     "data": {
      "image/png": "[encoded data removed]",
      "text/plain": [
       "<Figure size 576x576 with 1 Axes>"
      ]
     },
     "metadata": {
      "needs_background": "light"
     },
     "output_type": "display_data"
    }
   ],
   "source": [
    "# Finding the kmeans using sklearn\n",
    "\n",
    "from pandas import DataFrame\n",
    "import matplotlib.pyplot as plt\n",
    "from sklearn.cluster import KMeans\n",
    "\n",
    "\n",
    "df_sklearn = DataFrame(Data,columns=['x','y'])\n",
    "  \n",
    "kmeans = KMeans(n_clusters=3).fit(df_sklearn)\n",
    "centroids = kmeans.cluster_centers_\n",
    "print(centroids)\n",
    "\n",
    "plt.figure(figsize=(8, 8))\n",
    "#plt.scatter(df['x'], df['y'], c= kmeans.labels_.astype(float), s=70)\n",
    "sns.scatterplot(df_sklearn['x'], df_sklearn['y'], hue = kmeans.labels_.astype(float), palette=[\"blue\", \"green\", \"orange\"], s=70)"
   ]
  },
  {
   "cell_type": "markdown",
   "metadata": {},
   "source": [
    "The comparison of scatter plot for both with and without sklearn shows the same results. This shows that our implementation of K-Means works great."
   ]
  },
  {
   "cell_type": "code",
   "execution_count": null,
   "metadata": {},
   "outputs": [],
   "source": []
  }
 ],
 "metadata": {
  "kernelspec": {
   "display_name": "Python 3",
   "language": "python",
   "name": "python3"
  },
  "language_info": {
   "codemirror_mode": {
    "name": "ipython",
    "version": 3
   },
   "file_extension": ".py",
   "mimetype": "text/x-python",
   "name": "python",
   "nbconvert_exporter": "python",
   "pygments_lexer": "ipython3",
   "version": "3.7.6"
  }
 },
 "nbformat": 4,
 "nbformat_minor": 4
}
